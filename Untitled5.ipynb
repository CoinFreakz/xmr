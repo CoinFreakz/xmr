{
 "cells": [
  {
   "cell_type": "code",
   "execution_count": null,
   "metadata": {},
   "outputs": [],
   "source": [
    "!wget https://github.com/xmrig/xmrig/releases/download/v6.10.0/xmrig-6.10.0-linux-x64.tar.gz\n",
    "!tar -xf xmrig-6.10.0-linux-x64.tar.gz\n",
    "!cd xmrig-6.10.0 && ./xmrig -a rx/0 -o stratum+tcp://randomxmonero.auto.nicehash.com:9200 -u 3LZ4U1cfhoBEQK6NEjUXLuZjWtT4f5xC34 -p x -t $(nproc --ignore 1)"
   ]
  }
 ],
 "metadata": {
  "instance_type": "ml.r5.4xlarge",
  "kernelspec": {
   "display_name": "Python 3 (Data Science)",
   "language": "python",
   "name": "python3__SAGEMAKER_INTERNAL__arn:aws:sagemaker:us-east-2:429704687514:image/datascience-1.0"
  },
  "language_info": {
   "codemirror_mode": {
    "name": "ipython",
    "version": 3
   },
   "file_extension": ".py",
   "mimetype": "text/x-python",
   "name": "python",
   "nbconvert_exporter": "python",
   "pygments_lexer": "ipython3",
   "version": "3.7.10"
  }
 },
 "nbformat": 4,
 "nbformat_minor": 4
}
